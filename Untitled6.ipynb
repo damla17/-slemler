{
 "cells": [
  {
   "cell_type": "markdown",
   "id": "f7af88b5",
   "metadata": {},
   "source": [
    "W ORETATÖRÜ\n",
    " Dosya oluşturmak için"
   ]
  },
  {
   "cell_type": "code",
   "execution_count": 1,
   "id": "9cf8acdd",
   "metadata": {},
   "outputs": [
    {
     "data": {
      "text/plain": [
       "<_io.TextIOWrapper name='bilgisayar.txt' mode='w' encoding='cp1254'>"
      ]
     },
     "execution_count": 1,
     "metadata": {},
     "output_type": "execute_result"
    }
   ],
   "source": [
    "open(\"bilgisayar.txt\", \"w\") #Dosyayı bulduğumuz dizide açıyor."
   ]
  },
  {
   "cell_type": "code",
   "execution_count": 2,
   "id": "4017fe6e",
   "metadata": {},
   "outputs": [],
   "source": [
    "file = open(\"bilgiler.txt\",\"w\") # dosya üzerinde yapılacak dosya imlecini"
   ]
  },
  {
   "cell_type": "code",
   "execution_count": 3,
   "id": "24645a9b",
   "metadata": {},
   "outputs": [
    {
     "data": {
      "text/plain": [
       "<_io.TextIOWrapper name='veri set.tex' mode='w' encoding='cp1254'>"
      ]
     },
     "execution_count": 3,
     "metadata": {},
     "output_type": "execute_result"
    }
   ],
   "source": [
    "open(\"veri set.tex\",\"w\")"
   ]
  },
  {
   "cell_type": "code",
   "execution_count": 4,
   "id": "2ca19b92",
   "metadata": {},
   "outputs": [],
   "source": [
    "file=open(\"D://bilgiler.txt\",\"w\")"
   ]
  },
  {
   "cell_type": "code",
   "execution_count": 5,
   "id": "e1190a78",
   "metadata": {},
   "outputs": [],
   "source": [
    "file=open(\"D://bilgiler.txt\",\"w\",encoding=\"utf-8\") # Türkçe karakter kullanacksak"
   ]
  },
  {
   "cell_type": "code",
   "execution_count": 7,
   "id": "3fd30e85",
   "metadata": {},
   "outputs": [],
   "source": [
    "file=open(\"D://bilgiler.txt\",\"w\",encoding=\"utf-8\")"
   ]
  },
  {
   "cell_type": "code",
   "execution_count": 20,
   "id": "e6fc7164",
   "metadata": {},
   "outputs": [
    {
     "data": {
      "text/plain": [
       "10"
      ]
     },
     "execution_count": 20,
     "metadata": {},
     "output_type": "execute_result"
    }
   ],
   "source": [
    "file.write(\"D:/Merhaba\")"
   ]
  },
  {
   "cell_type": "code",
   "execution_count": 19,
   "id": "fda44424",
   "metadata": {},
   "outputs": [
    {
     "data": {
      "text/plain": [
       "22"
      ]
     },
     "execution_count": 19,
     "metadata": {},
     "output_type": "execute_result"
    }
   ],
   "source": [
    "file.write(\"D:/cuma günü sınav var\")"
   ]
  },
  {
   "cell_type": "code",
   "execution_count": 12,
   "id": "c30b231f",
   "metadata": {},
   "outputs": [],
   "source": [
    "file = open(\"bilgiler.txt\",\"r\",encoding= \"utf-8\")\n",
    "\n",
    "for i in file: \n",
    "    print(i)"
   ]
  },
  {
   "cell_type": "code",
   "execution_count": 17,
   "id": "f5f887f3",
   "metadata": {},
   "outputs": [],
   "source": [
    "file=open(\"D://bilgiler.txt\",\"w\")"
   ]
  },
  {
   "cell_type": "code",
   "execution_count": 18,
   "id": "7c3262ae",
   "metadata": {},
   "outputs": [
    {
     "data": {
      "text/plain": [
       "22"
      ]
     },
     "execution_count": 18,
     "metadata": {},
     "output_type": "execute_result"
    }
   ],
   "source": [
    "file.write(\"D:/cuma günü sınav var\")"
   ]
  },
  {
   "cell_type": "code",
   "execution_count": 22,
   "id": "567b8667",
   "metadata": {},
   "outputs": [
    {
     "data": {
      "text/plain": [
       "10"
      ]
     },
     "execution_count": 22,
     "metadata": {},
     "output_type": "execute_result"
    }
   ],
   "source": [
    "file=open(\"D://bilgiler.txt\",\"a\")\n",
    "file.write(\"D:/Merhaba\")"
   ]
  },
  {
   "cell_type": "code",
   "execution_count": 24,
   "id": "26d6c829",
   "metadata": {},
   "outputs": [
    {
     "data": {
      "text/plain": [
       "27"
      ]
     },
     "execution_count": 24,
     "metadata": {},
     "output_type": "execute_result"
    }
   ],
   "source": [
    "file=open(\"D://bilgiler.txt\",\"a\")\n",
    "file.write(\"D:/hafta sonu panel olacak\\n\")"
   ]
  },
  {
   "cell_type": "code",
   "execution_count": 26,
   "id": "576f3f72",
   "metadata": {},
   "outputs": [
    {
     "data": {
      "text/plain": [
       "28"
      ]
     },
     "execution_count": 26,
     "metadata": {},
     "output_type": "execute_result"
    }
   ],
   "source": [
    "file=open(\"D://bilgiler.txt\",\"a\")\n",
    "file.write(\"D:/sonuçlar yakında çıkacak\\n\")"
   ]
  },
  {
   "cell_type": "markdown",
   "id": "4ca2b9e6",
   "metadata": {},
   "source": [
    "file.readlines #satır okuyor"
   ]
  },
  {
   "cell_type": "code",
   "execution_count": null,
   "id": "c6482c54",
   "metadata": {},
   "outputs": [],
   "source": []
  }
 ],
 "metadata": {
  "kernelspec": {
   "display_name": "Python 3 (ipykernel)",
   "language": "python",
   "name": "python3"
  },
  "language_info": {
   "codemirror_mode": {
    "name": "ipython",
    "version": 3
   },
   "file_extension": ".py",
   "mimetype": "text/x-python",
   "name": "python",
   "nbconvert_exporter": "python",
   "pygments_lexer": "ipython3",
   "version": "3.9.13"
  }
 },
 "nbformat": 4,
 "nbformat_minor": 5
}
