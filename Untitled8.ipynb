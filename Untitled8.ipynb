{
 "cells": [
  {
   "cell_type": "markdown",
   "id": "469fc594",
   "metadata": {},
   "source": [
    "# NUMPY KÜTÜPHANESİ"
   ]
  },
  {
   "cell_type": "code",
   "execution_count": 2,
   "id": "f16080f3",
   "metadata": {},
   "outputs": [
    {
     "name": "stdout",
     "output_type": "stream",
     "text": [
      "[ 6. 40. 31. 45.]\n"
     ]
    }
   ],
   "source": [
    "import numpy as np\n",
    "vize = [10,20,30,40]\n",
    "final = [2,60,32,50]\n",
    "\n",
    "vize_np = np.array(vize)\n",
    "final_np = np.array(final)\n",
    "\n",
    "ortalama = (vize_np + final_np)/2\n",
    "print(ortalama)"
   ]
  },
  {
   "cell_type": "code",
   "execution_count": 4,
   "id": "83110fdc",
   "metadata": {},
   "outputs": [
    {
     "name": "stdout",
     "output_type": "stream",
     "text": [
      "[[1 2 3]\n",
      " [4 5 6]]\n"
     ]
    }
   ],
   "source": [
    "import numpy as np\n",
    "\n",
    "# 2 boyutlu numpy\n",
    "my_array = np.array([[1,2,3],[4,5,6]])\n",
    "\n",
    "#numpy dizisini ekrana yazdırma\n",
    "print(my_array)"
   ]
  },
  {
   "cell_type": "code",
   "execution_count": 7,
   "id": "eff6592f",
   "metadata": {},
   "outputs": [
    {
     "name": "stdout",
     "output_type": "stream",
     "text": [
      "[[1 2 3]\n",
      " [4 5 6]\n",
      " [7 8 9]]\n"
     ]
    }
   ],
   "source": [
    "import numpy as np\n",
    "\n",
    "my_array = np.array([[1,2,3],[4,5,6],[7,8,9]])\n",
    "\n",
    "#numpy dizisini ekrana yazdırma\n",
    "print(my_array)"
   ]
  },
  {
   "cell_type": "code",
   "execution_count": 10,
   "id": "fd942cc6",
   "metadata": {},
   "outputs": [
    {
     "name": "stdout",
     "output_type": "stream",
     "text": [
      "7\n"
     ]
    }
   ],
   "source": [
    "import numpy as np\n",
    "\n",
    "arr = np.array([1, 2, 3, 4, 5, 6, 7])\n",
    "max_value = np.amax(arr)\n",
    "print(max_value) # output: 7"
   ]
  },
  {
   "cell_type": "code",
   "execution_count": 11,
   "id": "7a889f01",
   "metadata": {},
   "outputs": [
    {
     "name": "stdout",
     "output_type": "stream",
     "text": [
      "[ 6  6 11]\n"
     ]
    }
   ],
   "source": [
    "import numpy as np\n",
    "\n",
    "arr = np.array([[1, 6, 3],[4, 5, 6], [11, 8, 9]])\n",
    "max_values = np.amax(arr, axis = 1)\n",
    "print(max_values)"
   ]
  },
  {
   "cell_type": "markdown",
   "id": "cb021650",
   "metadata": {},
   "source": [
    "axis=1 satırdaki en büyük sayılar\n",
    "axis=0 sütundaki enbüyük sayılar"
   ]
  },
  {
   "cell_type": "code",
   "execution_count": 12,
   "id": "0f821410",
   "metadata": {},
   "outputs": [
    {
     "name": "stdout",
     "output_type": "stream",
     "text": [
      "[[ 6]\n",
      " [ 6]\n",
      " [11]]\n"
     ]
    }
   ],
   "source": [
    "import numpy as np\n",
    "\n",
    "arr = np.array([[1, 6, 3],[4, 5, 6], [11, 8, 9]])\n",
    "max_values = np.amax(arr, axis = 1, keepdims=True)\n",
    "print(max_values)\n"
   ]
  },
  {
   "cell_type": "code",
   "execution_count": 19,
   "id": "e07b668e",
   "metadata": {},
   "outputs": [
    {
     "name": "stdout",
     "output_type": "stream",
     "text": [
      "11\n"
     ]
    }
   ],
   "source": [
    "import numpy as np\n",
    "\n",
    "arr = np.array([11, 8, 9, 10, 7])\n",
    "max_values = np.amax(arr,initial=0)\n",
    "print(max_values)"
   ]
  },
  {
   "cell_type": "code",
   "execution_count": 21,
   "id": "219f3e93",
   "metadata": {},
   "outputs": [
    {
     "name": "stdout",
     "output_type": "stream",
     "text": [
      "0    1\n",
      "1    2\n",
      "2    3\n",
      "3    4\n",
      "4    5\n",
      "dtype: int64\n"
     ]
    }
   ],
   "source": [
    "import pandas as pd\n",
    "\n",
    "# liste oluşturarak bir pandas serisi oluşturma\n",
    "my_list = [1, 2, 3, 4, 5]\n",
    "my_series = pd.Series(my_list)\n",
    "print(my_series)"
   ]
  },
  {
   "cell_type": "code",
   "execution_count": 22,
   "id": "324726b6",
   "metadata": {},
   "outputs": [
    {
     "name": "stdout",
     "output_type": "stream",
     "text": [
      "     name  age\n",
      "0   Damla   30\n",
      "1  Yağmur   35\n",
      "2   Derin    2\n"
     ]
    }
   ],
   "source": [
    "import pandas as pd\n",
    "\n",
    "#sözlük kullanarak bir pandas veri çerçevesi oluşturma\n",
    "my_dict = {'name': ['Damla', 'Yağmur', 'Derin'], 'age': [30, 35, 2]}\n",
    "my_dataframe = pd.DataFrame(my_dict)\n",
    "print(my_dataframe)"
   ]
  },
  {
   "cell_type": "code",
   "execution_count": null,
   "id": "f3d75852",
   "metadata": {},
   "outputs": [],
   "source": []
  }
 ],
 "metadata": {
  "kernelspec": {
   "display_name": "Python 3 (ipykernel)",
   "language": "python",
   "name": "python3"
  },
  "language_info": {
   "codemirror_mode": {
    "name": "ipython",
    "version": 3
   },
   "file_extension": ".py",
   "mimetype": "text/x-python",
   "name": "python",
   "nbconvert_exporter": "python",
   "pygments_lexer": "ipython3",
   "version": "3.9.13"
  }
 },
 "nbformat": 4,
 "nbformat_minor": 5
}
